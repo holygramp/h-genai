{
 "cells": [
  {
   "cell_type": "code",
   "execution_count": 1,
   "metadata": {},
   "outputs": [
    {
     "name": "stderr",
     "output_type": "stream",
     "text": [
      "C:\\Users\\hrandriatsp\\AppData\\Local\\Temp\\ipykernel_84664\\1706038167.py:2: DeprecationWarning: \n",
      "Pyarrow will become a required dependency of pandas in the next major release of pandas (pandas 3.0),\n",
      "(to allow more performant data types, such as the Arrow string type, and better interoperability with other libraries)\n",
      "but was not found to be installed on your system.\n",
      "If this would cause problems for you,\n",
      "please provide us feedback at https://github.com/pandas-dev/pandas/issues/54466\n",
      "        \n",
      "  import pandas as pd\n"
     ]
    }
   ],
   "source": [
    "import json\n",
    "import pandas as pd\n",
    "import requests\n",
    "import io"
   ]
  },
  {
   "cell_type": "code",
   "execution_count": 2,
   "metadata": {},
   "outputs": [],
   "source": [
    "url = \"https://data.ofgl.fr/api/explore/v2.1/catalog/datasets/ofgl-base-communes/exports/csv?select=exer%2C%20montant_en_millions%2C%20reg_name%2C%20dep_name%2C%20epci_name%2C%20epci_code%2C%20qpv%2C%20com_code%2C%20com_name%2C%20type_de_budget%2C%20ptot%2C%20euros_par_habitant%2C%20agregat%2C%20insee&where=%28agregat%20%3D%20%22Encours%20de%20dette%22%20or%20%20agregat%20%3D%20%22Recettes%20de%20fonctionnement%22%20or%20%20agregat%20%3D%20%22Recettes%20d%27investissement%22%20or%20%20agregat%20%3D%20%22D%C3%A9penses%20de%20fonctionnement%22%20or%20%20agregat%20%3D%20%22D%C3%A9penses%20d%27investissement%22%20or%20%20agregat%20%3D%20%22Epargne%20de%20gestion%22%20or%20%20agregat%20%3D%20%22Epargne%20brute%22%20or%20%20agregat%20%3D%20%22Epargne%20nette%22%20or%20agregat%20%3D%20%22Produit%20des%20cessions%20d%27immobilisations%22%20or%20%20agregat%20%3D%20%22Remboursements%20d%27emprunts%20hors%20GAD%22%20or%20%20agregat%20%3D%20%22Annuit%C3%A9%20de%20dette%22%29%20%20and%20ptot%20%3E%3D%2080000%20and%20year%28exer%29%20%3D%202023&limit=-1&timezone=UTC&use_labels=false&epsg=4326\"\n",
    "result = requests.get(url)\n",
    "df = pd.read_csv(io.StringIO(result.content.decode('utf-8')), sep=\";\")"
   ]
  },
  {
   "cell_type": "code",
   "execution_count": 3,
   "metadata": {},
   "outputs": [],
   "source": [
    "df_principal=df.copy()"
   ]
  },
  {
   "cell_type": "code",
   "execution_count": 4,
   "metadata": {},
   "outputs": [],
   "source": [
    "df_principal['encours_budget_principal'] = df_principal.apply(lambda row: row['montant_en_millions'] if row['agregat'] == \"Encours de dette\" else None, axis=1)\n",
    "df_principal['recette_fonctionnement'] = df_principal.apply(lambda row: row['montant_en_millions'] if row['agregat'] == \"Recettes de fonctionnement\" else None, axis=1)\n",
    "df_principal['recette_investissement'] = df_principal.apply(lambda row: row['montant_en_millions'] if row['agregat'] == \"Recettes d'investissement\" else None, axis=1)\n",
    "df_principal['depense_fonctionnement'] = df_principal.apply(lambda row: row['montant_en_millions'] if row['agregat'] == \"Dépenses de fonctionnement\" else None, axis=1)\n",
    "df_principal['depense_investissement'] = df_principal.apply(lambda row: row['montant_en_millions'] if row['agregat'] == \"Dépenses d'investissement\" else None, axis=1)\n",
    "df_principal['epargne_gestion'] = df_principal.apply(lambda row: row['montant_en_millions'] if row['agregat'] == \"Epargne de gestion\" else None, axis=1)\n",
    "df_principal['epargne_brute'] = df_principal.apply(lambda row: row['montant_en_millions'] if row['agregat'] == \"Epargne brute\" else None, axis=1)\n",
    "df_principal['epargne_nette'] = df_principal.apply(lambda row: row['montant_en_millions'] if row['agregat'] == \"Epargne nette\" else None, axis=1)"
   ]
  },
  {
   "cell_type": "code",
   "execution_count": 5,
   "metadata": {},
   "outputs": [],
   "source": [
    "df_principal['Produit des cessions d’immobilisations'] = df_principal.apply(lambda row: row['montant_en_millions'] if row['agregat'] == \"Produit des cessions d'immobilisations\" else None, axis=1)\n",
    "df_principal['Remboursements d emprunts hors GAD'] = df_principal.apply(lambda row: row['montant_en_millions'] if row['agregat'] == \"Remboursements d'emprunts hors GAD\" else None, axis=1)\n",
    "df_principal['Annuité de la dette'] = df_principal.apply(lambda row: row['montant_en_millions'] if row['agregat'] == \"Annuité de la dette\" else None, axis=1)"
   ]
  },
  {
   "cell_type": "code",
   "execution_count": 6,
   "metadata": {},
   "outputs": [],
   "source": [
    "df_final = df_principal.copy()"
   ]
  },
  {
   "cell_type": "code",
   "execution_count": 7,
   "metadata": {},
   "outputs": [],
   "source": [
    "df_final = df_final.groupby('insee').agg(\n",
    "    {\n",
    "        'exer':'first',\n",
    "        'reg_name':'first',\n",
    "        'dep_name':'first',\n",
    "        'epci_name':'first',\n",
    "        'epci_code':'first',\n",
    "        'qpv':'first',\n",
    "        'com_code':'first',\n",
    "        'com_name':'first',\n",
    "        'type_de_budget':'first',\n",
    "        'ptot':'first',\n",
    "        'euros_par_habitant':'first',\n",
    "        'encours_budget_principal': lambda x: x.dropna().sum(),\n",
    "        'recette_fonctionnement': lambda x: x.dropna().sum(),\n",
    "        'recette_investissement': lambda x: x.dropna().sum(),\n",
    "        'depense_fonctionnement': lambda x: x.dropna().sum(),\n",
    "        'depense_investissement': lambda x: x.dropna().sum(),\n",
    "        'epargne_gestion': lambda x: x.dropna().sum(),\n",
    "        'epargne_brute': lambda x: x.dropna().sum(),\n",
    "        'epargne_nette': lambda x: x.dropna().sum(),\n",
    "        'Produit des cessions d’immobilisations': lambda x: x.dropna().sum(),\n",
    "        'Remboursements d emprunts hors GAD': lambda x: x.dropna().sum(),\n",
    "        'Annuité de la dette': lambda x: x.dropna().sum()\n",
    "    }\n",
    ").reset_index()"
   ]
  },
  {
   "cell_type": "code",
   "execution_count": 8,
   "metadata": {},
   "outputs": [],
   "source": [
    "df_final['capacite_desendetemment'] = df_final.apply(lambda row: row['encours_budget_principal'] / row['epargne_brute'] if row['epargne_brute'] else None, axis=1)\n",
    "df_final['taux_endetemment'] = df_final.apply(lambda row: row['encours_budget_principal'] / row['recette_fonctionnement'] if row['recette_fonctionnement'] else None, axis=1)\n",
    "df_final['duree_apparente_dette'] = df_final.apply(lambda row: row['encours_budget_principal'] / row[\"Remboursements d emprunts hors GAD\"] if row[\"Remboursements d emprunts hors GAD\"] else None, axis=1)\n",
    "df_final['taux_epargne_net'] = df_final.apply(lambda row: row['epargne_nette'] / row['recette_fonctionnement'] if row['recette_fonctionnement'] else None, axis=1)\n",
    "df_final['taux_epargne_brute'] = df_final.apply(lambda row: row['epargne_brute'] / row['recette_fonctionnement'] if row['recette_fonctionnement'] else None, axis=1)\n",
    "df_final['taux_epargne_gestion'] = df_final.apply(lambda row: row['epargne_gestion'] / (row['recette_fonctionnement'] - row['Produit des cessions d’immobilisations'] ) if (row['recette_fonctionnement'] - row['Produit des cessions d’immobilisations']) != 0 else None, axis=1)\n",
    "df_final['ratio_annuité_recette_fonctionnement'] = df_final.apply(lambda row: row['epargne_nette'] / row['Annuité de la dette'] if row['Annuité de la dette'] else None, axis=1)"
   ]
  },
  {
   "cell_type": "code",
   "execution_count": 9,
   "metadata": {},
   "outputs": [],
   "source": [
    "df_final['epargne_gestion_habitant'] = df_final.apply(lambda row: row['epargne_gestion']*1000000  / row['ptot'] if row['ptot'] else None, axis=1)\n",
    "df_final['epargne_brute_habitant'] = df_final.apply(lambda row: row['epargne_brute']*1000000  / row['ptot'] if row['ptot'] else None, axis=1)\n",
    "df_final['epargne_nette_habitant'] = df_final.apply(lambda row: row['epargne_nette']*1000000 / row['ptot'] if row['ptot'] else None, axis=1)\n",
    "df_final['budget_habitant'] = df_final.apply(lambda row: row['encours_budget_principal']*1000000  / row['ptot'] if row['ptot'] else None, axis=1)"
   ]
  },
  {
   "cell_type": "code",
   "execution_count": 10,
   "metadata": {},
   "outputs": [],
   "source": [
    "df_final.to_csv('donnes_financieres_communnes.csv')"
   ]
  },
  {
   "cell_type": "code",
   "execution_count": 11,
   "metadata": {},
   "outputs": [
    {
     "name": "stdout",
     "output_type": "stream",
     "text": [
      "{\"insee\": 21231, \"exer\": 2023, \"reg_name\": \"Bourgogne-Franche-Comté\", \"dep_name\": \"Côte-d'Or\", \"epci_name\": \"Dijon Métropole\", \"epci_code\": 242100410, \"qpv\": \"Oui\", \"com_code\": 21231, \"com_name\": \"Dijon\", \"type_de_budget\": \"Budget principal\", \"ptot\": 162454, \"euros_par_habitant\": 1074.256759082571, \"encours_budget_principal\": 110.28409409, \"recette_fonctionnement\": 206.74528794, \"recette_investissement\": 12.51211978, \"depense_fonctionnement\": 174.51730754, \"depense_investissement\": 62.80699139, \"epargne_gestion\": 35.93986893, \"epargne_brute\": 32.2279804, \"epargne_nette\": 21.3208081, \"Produit des cessions d’immobilisations\": 1.30986126, \"Remboursements d emprunts hors GAD\": 10.9071723, \"Annuité de la dette\": 0, \"capacite_desendetemment\": 3.4219982984102844, \"taux_endetemment\": 0.5334297830381788, \"duree_apparente_dette\": 10.111153565438771, \"taux_epargne_net\": 0.10312596873398903, \"taux_epargne_brute\": 0.1558825389498258, \"taux_epargne_gestion\": 0.17494484525291906, \"ratio_annuité_recette_fonctionnement\": null, \"epargne_gestion_habitant\": 221.23104958942224, \"epargne_brute_habitant\": 198.38219065089194, \"epargne_nette_habitant\": 131.24212453986976, \"budget_habitant\": 678.8635188422569}\n"
     ]
    }
   ],
   "source": [
    "import json\n",
    "import pandas as pd\n",
    "\n",
    "def get_json_finance_communes(dataframe,epci_code, exer):\n",
    "  \"\"\"Retrieves data from the DataFrame and returns it as a JSON.\n",
    "\n",
    "  Args:\n",
    "    epci_code: The EPCI code to filter by.\n",
    "    exer: The exer to filter by.\n",
    "\n",
    "  Returns:\n",
    "    A JSON object containing the data, or an error message if data is not found or if inputs are invalid.\n",
    "  \"\"\"\n",
    "  try:\n",
    "    exer = int(exer)  # Convert exer to integer\n",
    "  except ValueError:\n",
    "    return json.dumps({\"error\": \"Invalid exer value. Please provide a valid year.\"})\n",
    "\n",
    "  filtered_df = df_final[(dataframe['insee'] == epci_code) & (dataframe['exer'] == exer)]\n",
    "\n",
    "  if filtered_df.empty:\n",
    "    return json.dumps({\"error\": f\"No data found for insee: {epci_code} and exer: {exer}\"})\n",
    "\n",
    "  data_dict = filtered_df.iloc[0].to_dict()\n",
    "\n",
    "  # Handle potential NaN values\n",
    "  for key, value in data_dict.items():\n",
    "      if pd.isnull(value):\n",
    "          data_dict[key] = None  # or any other desired representation for NaN\n",
    "\n",
    "  return json.dumps(data_dict, ensure_ascii=False).encode('utf8')\n",
    "\n",
    "test = get_json_finance_communes(df_final,21231, 2023)\n",
    "print(test.decode())  # This would print the JSON string (if data is found)."
   ]
  },
  {
   "cell_type": "code",
   "execution_count": 12,
   "metadata": {},
   "outputs": [
    {
     "ename": "ModuleNotFoundError",
     "evalue": "No module named 'unidecode'",
     "output_type": "error",
     "traceback": [
      "\u001b[1;31m---------------------------------------------------------------------------\u001b[0m",
      "\u001b[1;31mModuleNotFoundError\u001b[0m                       Traceback (most recent call last)",
      "Cell \u001b[1;32mIn[12], line 3\u001b[0m\n\u001b[0;32m      1\u001b[0m \u001b[38;5;28;01mimport\u001b[39;00m \u001b[38;5;21;01mjson\u001b[39;00m\n\u001b[0;32m      2\u001b[0m \u001b[38;5;28;01mimport\u001b[39;00m \u001b[38;5;21;01mos\u001b[39;00m\n\u001b[1;32m----> 3\u001b[0m \u001b[38;5;28;01mimport\u001b[39;00m \u001b[38;5;21;01munidecode\u001b[39;00m\n\u001b[0;32m      5\u001b[0m \u001b[38;5;28;01mdef\u001b[39;00m \u001b[38;5;21mgenerate_json_per_row\u001b[39m(dataframe):\n\u001b[0;32m      6\u001b[0m \u001b[38;5;250m  \u001b[39m\u001b[38;5;124;03m\"\"\"Génère un fichier JSON pour chaque ligne du dataframe.\u001b[39;00m\n\u001b[0;32m      7\u001b[0m \n\u001b[0;32m      8\u001b[0m \u001b[38;5;124;03m  Args:\u001b[39;00m\n\u001b[0;32m      9\u001b[0m \u001b[38;5;124;03m    dataframe: Le dataframe d'entrée pandas.\u001b[39;00m\n\u001b[0;32m     10\u001b[0m \u001b[38;5;124;03m  \"\"\"\u001b[39;00m\n",
      "\u001b[1;31mModuleNotFoundError\u001b[0m: No module named 'unidecode'"
     ]
    }
   ],
   "source": [
    "import json\n",
    "import os\n",
    "\n",
    "def generate_json_per_row(dataframe):\n",
    "  \"\"\"Génère un fichier JSON pour chaque ligne du dataframe.\n",
    "\n",
    "  Args:\n",
    "    dataframe: Le dataframe d'entrée pandas.\n",
    "  \"\"\"\n",
    "\n",
    "  # Crée un répertoire pour stocker les fichiers JSON s'il n'existe pas\n",
    "  os.makedirs('json_files', exist_ok=True)\n",
    "\n",
    "  for index, row in dataframe.iterrows():\n",
    "    # Convertit la ligne en un dictionnaire\n",
    "    row_dict = row.to_dict()\n",
    "\n",
    "    # Gère les valeurs NaN potentielles\n",
    "    for key, value in row_dict.items():\n",
    "        if pd.isnull(value):\n",
    "            row_dict[key] = None  # ou toute autre représentation souhaitée pour NaN\n",
    "\n",
    "    # Crée le dictionnaire au format souhaité\n",
    "    json_data = {}\n",
    "    for column, value in row_dict.items():\n",
    "        json_data[column] = value\n",
    "\n",
    "    json_data_final = {}\n",
    "    json_data_final['indicateurs_financiers'] = json_data\n",
    "\n",
    "    # Génère le nom du fichier en utilisant le nom de la ville formaté\n",
    "    filename = f\"json_files/{row_dict['com_name']}.json\"  # Utilise le nom formaté comme nom de fichier\n",
    "\n",
    "    # Écrit le dictionnaire dans un fichier JSON\n",
    "    with open(filename, 'w', encoding='utf-8') as f:\n",
    "      json.dump(json_data_final, f, ensure_ascii=False, indent=4)\n",
    "\n",
    "  print(f\"Fichiers JSON générés dans le répertoire 'json_files'.\")\n",
    "\n",
    "# Appelle la fonction pour générer les fichiers JSON\n",
    "generate_json_per_row(df_final)"
   ]
  }
 ],
 "metadata": {
  "kernelspec": {
   "display_name": "base",
   "language": "python",
   "name": "python3"
  },
  "language_info": {
   "codemirror_mode": {
    "name": "ipython",
    "version": 3
   },
   "file_extension": ".py",
   "mimetype": "text/x-python",
   "name": "python",
   "nbconvert_exporter": "python",
   "pygments_lexer": "ipython3",
   "version": "3.11.7"
  }
 },
 "nbformat": 4,
 "nbformat_minor": 2
}
