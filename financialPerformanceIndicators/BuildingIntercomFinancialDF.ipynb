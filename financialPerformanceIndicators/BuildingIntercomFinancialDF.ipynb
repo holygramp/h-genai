{
 "cells": [
  {
   "cell_type": "code",
   "execution_count": null,
   "metadata": {
    "vscode": {
     "languageId": "plaintext"
    }
   },
   "outputs": [],
   "source": [
    "import json\n",
    "import pandas as pd\n",
    "import requests\n",
    "import io"
   ]
  },
  {
   "cell_type": "code",
   "execution_count": null,
   "metadata": {
    "vscode": {
     "languageId": "plaintext"
    }
   },
   "outputs": [],
   "source": [
    "url = \"https://data.ofgl.fr/api/explore/v2.1/catalog/datasets/ofgl-base-gfp/exports/csv?select=exer%2C%20reg_name%2C%20dep_name%2C%20nat_juridique%2C%20mode_financement%2C%20gfp_qpv%2C%20epci_name%2C%20epci_code%2C%20lbudg%2C%20type_de_budget%2C%20agregat%2C%20montant_en_millions%2C%20euros_par_habitant%2C%20ptot&where=%28agregat%20%3D%20%22Encours%20de%20dette%22%20or%20agregat%20%3D%20%22Produit%20des%20cessions%20d%27immobilisations%22%20or%20agregat%20%3D%20%22Recettes%20de%20fonctionnement%22%20or%20agregat%20%3D%20%22Epargne%20de%20gestion%22%20or%20agregat%20%3D%20%22Epargne%20brute%22%20or%20agregat%20%3D%20%22Epargne%20nette%22%20or%20agregat%20%3D%20%22Remboursements%20d%27emprunts%20hors%20GAD%22%20or%20agregat%20%3D%20%22Annuit%C3%A9%20de%20la%20dette%22%29%20and%20year%28exer%29%20%3D%202023&limit=-1&timezone=UTC&use_labels=false&epsg=4326\"\n",
    "result = requests.get(url)\n",
    "df = pd.read_csv(io.StringIO(result.content.decode('utf-8')), sep=\";\")"
   ]
  },
  {
   "cell_type": "code",
   "execution_count": null,
   "metadata": {
    "vscode": {
     "languageId": "plaintext"
    }
   },
   "outputs": [],
   "source": [
    "df_principal = df.copy()"
   ]
  },
  {
   "cell_type": "code",
   "execution_count": null,
   "metadata": {
    "vscode": {
     "languageId": "plaintext"
    }
   },
   "outputs": [],
   "source": [
    "df_principal['encours_budget_principal'] = df_principal.apply(lambda row: row['montant_en_millions'] if row['agregat'] == \"Encours de dette\" else None, axis=1)\n",
    "df_principal['recette_fonctionnement'] = df_principal.apply(lambda row: row['montant_en_millions'] if row['agregat'] == \"Recettes de fonctionnement\" else None, axis=1)\n",
    "df_principal['epargne_gestion'] = df_principal.apply(lambda row: row['montant_en_millions'] if row['agregat'] == \"Epargne de gestion\" else None, axis=1)\n",
    "df_principal['epargne_brute'] = df_principal.apply(lambda row: row['montant_en_millions'] if row['agregat'] == \"Epargne brute\" else None, axis=1)\n",
    "df_principal['epargne_nette'] = df_principal.apply(lambda row: row['montant_en_millions'] if row['agregat'] == \"Epargne nette\" else None, axis=1)"
   ]
  },
  {
   "cell_type": "code",
   "execution_count": null,
   "metadata": {
    "vscode": {
     "languageId": "plaintext"
    }
   },
   "outputs": [],
   "source": [
    "df_principal['Produit des cessions d’immobilisations'] = df_principal.apply(lambda row: row['montant_en_millions'] if row['agregat'] == \"Produit des cessions d'immobilisations\" else None, axis=1)\n",
    "df_principal['Remboursements d emprunts hors GAD'] = df_principal.apply(lambda row: row['montant_en_millions'] if row['agregat'] == \"Remboursements d'emprunts hors GAD\" else None, axis=1)\n",
    "df_principal['Annuité de la dette'] = df_principal.apply(lambda row: row['montant_en_millions'] if row['agregat'] == \"Annuité de la dette\" else None, axis=1)"
   ]
  },
  {
   "cell_type": "code",
   "execution_count": null,
   "metadata": {
    "vscode": {
     "languageId": "plaintext"
    }
   },
   "outputs": [],
   "source": [
    "df_final = df_principal.copy()"
   ]
  },
  {
   "cell_type": "code",
   "execution_count": null,
   "metadata": {
    "vscode": {
     "languageId": "plaintext"
    }
   },
   "outputs": [],
   "source": [
    "df_final = df_principal.groupby('epci_code').agg(\n",
    "    {\n",
    "        'exer':'first',\n",
    "        'reg_name':'first',\n",
    "        'dep_name':'first',\n",
    "        'nat_juridique':'first',\n",
    "        'mode_financement':'first',\n",
    "        'gfp_qpv':'first',\n",
    "        'epci_name':'first',\n",
    "        'lbudg':'first',\n",
    "        'type_de_budget':'first',\n",
    "        'ptot':'first',\n",
    "        'euros_par_habitant':'first',\n",
    "        'encours_budget_principal': lambda x: x.dropna().sum(),\n",
    "        'recette_fonctionnement': lambda x: x.dropna().sum(),\n",
    "        'epargne_gestion': lambda x: x.dropna().sum(),\n",
    "        'epargne_brute': lambda x: x.dropna().sum(),\n",
    "        'epargne_nette': lambda x: x.dropna().sum(),\n",
    "        'Produit des cessions d’immobilisations': lambda x: x.dropna().sum(),\n",
    "        'Remboursements d emprunts hors GAD': lambda x: x.dropna().sum(),\n",
    "        'Annuité de la dette': lambda x: x.dropna().sum()\n",
    "    }\n",
    ").reset_index()"
   ]
  },
  {
   "cell_type": "code",
   "execution_count": null,
   "metadata": {
    "vscode": {
     "languageId": "plaintext"
    }
   },
   "outputs": [],
   "source": [
    "df_final['capacite_desendetemment'] = df_final.apply(lambda row: row['encours_budget_principal'] / row['epargne_brute'] if row['epargne_brute'] else None, axis=1)\n",
    "df_final['taux_endetemment'] = df_final.apply(lambda row: row['encours_budget_principal'] / row['recette_fonctionnement'] if row['recette_fonctionnement'] else None, axis=1)\n",
    "df_final['duree_apparente_dette'] = df_final.apply(lambda row: row['encours_budget_principal'] / row[\"Remboursements d emprunts hors GAD\"] if row[\"Remboursements d emprunts hors GAD\"] else None, axis=1)\n",
    "df_final['taux_epargne_net'] = df_final.apply(lambda row: row['epargne_nette'] / row['recette_fonctionnement'] if row['recette_fonctionnement'] else None, axis=1)\n",
    "df_final['taux_epargne_brute'] = df_final.apply(lambda row: row['epargne_brute'] / row['recette_fonctionnement'] if row['recette_fonctionnement'] else None, axis=1)\n",
    "df_final['taux_epargne_gestion'] = df_final.apply(lambda row: row['epargne_gestion'] / row['recette_fonctionnement'] if row['recette_fonctionnement'] else None, axis=1)\n",
    "df_final['ratio_annuité_recette_fonctionnement'] = df_final.apply(lambda row: row['epargne_nette'] / row['Annuité de la dette'] if row['Annuité de la dette'] else None, axis=1)\n"
   ]
  },
  {
   "cell_type": "code",
   "execution_count": null,
   "metadata": {
    "vscode": {
     "languageId": "plaintext"
    }
   },
   "outputs": [],
   "source": [
    "df_final.to_csv('donnees_financieres_inter.csv')"
   ]
  },
  {
   "cell_type": "code",
   "execution_count": null,
   "metadata": {
    "vscode": {
     "languageId": "plaintext"
    }
   },
   "outputs": [],
   "source": [
    "import json\n",
    "import pandas as pd\n",
    "\n",
    "def get_json_finance_inter(dataframe,epci_code, exer):\n",
    "  \"\"\"Retrieves data from the DataFrame and returns it as a JSON.\n",
    "\n",
    "  Args:\n",
    "    epci_code: The EPCI code to filter by.\n",
    "    exer: The exer to filter by.\n",
    "\n",
    "  Returns:\n",
    "    A JSON object containing the data, or an error message if data is not found or if inputs are invalid.\n",
    "  \"\"\"\n",
    "  try:\n",
    "    exer = int(exer)  # Convert exer to integer\n",
    "  except ValueError:\n",
    "    return json.dumps({\"error\": \"Invalid exer value. Please provide a valid year.\"})\n",
    "\n",
    "  filtered_df = df_final[(dataframe['epci_code'] == epci_code) & (dataframe['exer'] == exer)]\n",
    "\n",
    "  if filtered_df.empty:\n",
    "    return json.dumps({\"error\": f\"No data found for epci_code: {epci_code} and exer: {exer}\"})\n",
    "\n",
    "  data_dict = filtered_df.iloc[0].to_dict()\n",
    "\n",
    "  # Handle potential NaN values\n",
    "  for key, value in data_dict.items():\n",
    "      if pd.isnull(value):\n",
    "          data_dict[key] = None  # or any other desired representation for NaN\n",
    "\n",
    "  return json.dumps(data_dict, ensure_ascii=False).encode('utf8')\n",
    "\n",
    "test = get_json_finance_inter(df_final,242100410, 2023)\n",
    "print(test.decode())  # This would print the JSON string (if data is found)."
   ]
  }
 ],
 "metadata": {
  "language_info": {
   "name": "python"
  }
 },
 "nbformat": 4,
 "nbformat_minor": 2
}
